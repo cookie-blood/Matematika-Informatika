{
 "cells": [
  {
   "cell_type": "markdown",
   "metadata": {},
   "source": [
    "# Nástroj na premenu číslic z ľubovoľnej sústavy do desiatkovej sústavy"
   ]
  },
  {
   "cell_type": "markdown",
   "metadata": {},
   "source": [
    "Script dokáže rozoznať či sa operácia môže vykonať a následne ju vykoná."
   ]
  },
  {
   "cell_type": "code",
   "execution_count": 2,
   "metadata": {},
   "outputs": [
    {
     "name": "stdout",
     "output_type": "stream",
     "text": [
      "Nástroj na premenu číslic z ľubovoľnej sústavy do desiatkovej sústavy\n",
      " \n",
      "Zadajte číslo:\n",
      "10\n",
      "Zadajte číselnú sústavu:\n",
      "2\n",
      "Výsledok je: 2\n",
      " \n",
      "Vytvoril Sébastien E. Klaubert\n"
     ]
    }
   ],
   "source": [
    "print(\"Nástroj na premenu číslic z ľubovoľnej sústavy do desiatkovej sústavy\")\n",
    "print(\" \")\n",
    "print(\"Zadajte číslo:\")\n",
    "inp=input()\n",
    "print(\"Zadajte číselnú sústavu:\")\n",
    "sus=input()\n",
    "sus=int(sus)\n",
    "l=len(inp)-1\n",
    "e=len(inp)\n",
    "x=0\n",
    "vysledok=0\n",
    "m= True\n",
    "def alg():\n",
    "    addthis=inp[x]*(2**l)\n",
    "\n",
    "for number in inp:\n",
    "    if (int(number) >= sus):\n",
    "        m=False\n",
    "    else:\n",
    "        m=True\n",
    "if (m==True):\n",
    "    while((l!=-1) or (x!=e)):\n",
    "        addthis=int(inp[x])*int(sus**l)\n",
    "\n",
    "        l-=1\n",
    "        x+=1\n",
    "        vysledok+=int(addthis)\n",
    "else:\n",
    "    print(\"Nemožné\")\n",
    "print(\"Výsledok je: {}\".format(vysledok))    \n",
    "print(\" \")\n",
    "print(\"Vytvoril Sébastien E. Klaubert\")"
   ]
  },
  {
   "cell_type": "code",
   "execution_count": null,
   "metadata": {},
   "outputs": [],
   "source": [
    "Nabudúce bude schopný premienať do lubovolnej sustavy"
   ]
  }
 ],
 "metadata": {
  "kernelspec": {
   "display_name": "Python 3",
   "language": "python",
   "name": "python3"
  },
  "language_info": {
   "codemirror_mode": {
    "name": "ipython",
    "version": 3
   },
   "file_extension": ".py",
   "mimetype": "text/x-python",
   "name": "python",
   "nbconvert_exporter": "python",
   "pygments_lexer": "ipython3",
   "version": "3.7.3"
  }
 },
 "nbformat": 4,
 "nbformat_minor": 2
}
