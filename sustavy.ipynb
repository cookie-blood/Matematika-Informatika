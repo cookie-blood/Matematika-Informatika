{
 "cells": [
  {
   "cell_type": "markdown",
   "metadata": {},
   "source": [
    "# Nástroj na premenu číslic z ľubovoľnej sústavy do desiatkovej sústavy"
   ]
  },
  {
   "cell_type": "markdown",
   "metadata": {},
   "source": [
    "Script dokáže rozoznať či sa operácia môže vykonať a následne ju vykoná."
   ]
  },
  {
   "cell_type": "code",
   "execution_count": 2,
   "metadata": {},
   "outputs": [
    {
     "name": "stdout",
     "output_type": "stream",
     "text": [
      "Nástroj na premenu číslic z ľubovoľnej sústavy do desiatkovej sústavy\n",
      " \n",
      "Zadajte číslo:\n",
      "A12\n",
      "Zadajte číselnú sústavu:\n",
      "16\n",
      "1\n",
      "4\n",
      "4\n",
      "Výsledok je: 2578\n",
      "Vytvoril Sébastien E. Klaubert\n"
     ]
    }
   ],
   "source": [
    "import string\n",
    "print(\"Nástroj na premenu číslic z ľubovoľnej sústavy do desiatkovej sústavy\")\n",
    "print(\" \")\n",
    "print(\"Zadajte číslo:\")\n",
    "inp=input()\n",
    "print(\"Zadajte číselnú sústavu:\")\n",
    "sus=input()\n",
    "l=len(inp)-1\n",
    "e=len(inp)\n",
    "x=0\n",
    "vysledok=0\n",
    "\n",
    "for number in inp:\n",
    "    if number.isalpha():\n",
    "        print(1)\n",
    "        #skusal som kam sa kod dostane\n",
    "        number=number.lower()\n",
    "        num=(int(string.ascii_letters.index(number))+10)\n",
    "        if (int(num) <= int(sus)):\n",
    "                addthis=int(num)*int(int(sus)**l)\n",
    "                l-=1\n",
    "                vysledok+=int(addthis)\n",
    "        else:\n",
    "            print(2)\n",
    "            #skusal som kam sa kod dostane\n",
    "            vysledok=\"Nemožné\"\n",
    "            break\n",
    "        \n",
    "    elif (number.isdigit()) and (int(number) >= int(sus)):\n",
    "        print(3)\n",
    "        #skusal som kam sa kod dostane\n",
    "        vysledok=\"Nemožné\"\n",
    "        break\n",
    "        \n",
    "    elif (number.isdigit()) and (int(number) <= int(sus)) :\n",
    "            print(4)\n",
    "            #skusal som kam sa kod dostane\n",
    "            addthis=int(number)*int(int(sus)**l)\n",
    "            l-=1\n",
    "            vysledok+=int(addthis)\n",
    "\n",
    "\n",
    "print(\"Výsledok je: {}\".format(vysledok))\n",
    "print(\"Vytvoril Sébastien E. Klaubert\")"
   ]
  },
  {
   "cell_type": "code",
   "execution_count": null,
   "metadata": {},
   "outputs": [],
   "source": [
    "Nabudúce bude schopný premienať do lubovolnej sustavy"
   ]
  },
  {
   "cell_type": "code",
   "execution_count": 1,
   "metadata": {},
   "outputs": [
    {
     "name": "stdout",
     "output_type": "stream",
     "text": [
      "5\n",
      "5\n"
     ]
    }
   ],
   "source": [
    "import string\n",
    "a=\"AA\"\n",
    "for b in a:\n",
    "    print(string.ascii_letters.index(b.lower())+5)\n",
    "#skúška"
   ]
  },
  {
   "cell_type": "code",
   "execution_count": null,
   "metadata": {},
   "outputs": [],
   "source": []
  }
 ],
 "metadata": {
  "kernelspec": {
   "display_name": "Python 3",
   "language": "python",
   "name": "python3"
  },
  "language_info": {
   "codemirror_mode": {
    "name": "ipython",
    "version": 3
   },
   "file_extension": ".py",
   "mimetype": "text/x-python",
   "name": "python",
   "nbconvert_exporter": "python",
   "pygments_lexer": "ipython3",
   "version": "3.7.3"
  }
 },
 "nbformat": 4,
 "nbformat_minor": 2
}
